{
 "cells": [
  {
   "cell_type": "code",
   "execution_count": 9,
   "metadata": {},
   "outputs": [
    {
     "name": "stdout",
     "output_type": "stream",
     "text": [
      "  Channel Title Channel Username  ID  \\\n",
      "0        CheMed       @CheMed123  97   \n",
      "1        CheMed       @CheMed123  96   \n",
      "2        CheMed       @CheMed123  95   \n",
      "3        CheMed       @CheMed123  94   \n",
      "4        CheMed       @CheMed123  93   \n",
      "\n",
      "                                             Message  \\\n",
      "0  ⚠️Notice!\\nDear esteemed customers,\\nDue to fo...   \n",
      "1  Mela-One በውስጡ ሆርሞን ያለው ድንገተኛ ወሊድ መቆጣጠርያ ሲሆን ያለ...   \n",
      "2  አዚትሮማይሲን በሃኪም መድሃኒት ማዘዣ ከሚታዘዙ አንቲባዮቲኮች አንዱ ሲሆን...   \n",
      "3  Che-Med Trivia #3\\n\\nምግብና መጠጦች አንዳንድ መድሃኒቶች በደ...   \n",
      "4  Che-Med Trivia #2\\n\\nእንደ Ciprofloxacin, Doxycy...   \n",
      "\n",
      "                        Date                Media Path  \n",
      "0  2023-02-10 12:23:06+00:00  photos/@CheMed123_97.jpg  \n",
      "1  2023-02-02 08:58:52+00:00  photos/@CheMed123_96.jpg  \n",
      "2  2023-02-01 08:59:37+00:00  photos/@CheMed123_95.jpg  \n",
      "3  2023-01-31 09:19:53+00:00  photos/@CheMed123_94.jpg  \n",
      "4  2023-01-30 09:45:25+00:00  photos/@CheMed123_93.jpg  \n"
     ]
    }
   ],
   "source": [
    "import os\n",
    "import re\n",
    "import pandas as pd\n",
    "\n",
    "# Folder path where the CSV files are stored\n",
    "data_folder = '../tele_data'\n",
    "\n",
    "# Load all CSV files from the folder\n",
    "all_files = [os.path.join(data_folder, f) for f in os.listdir(data_folder) if f.endswith('.csv')]\n",
    "\n",
    "# Combine all CSV files into one DataFrame\n",
    "df_list = [pd.read_csv(file) for file in all_files]\n",
    "combined_df = pd.concat(df_list, ignore_index=True)\n",
    "\n",
    "# Display first few rows of the combined data\n",
    "print(combined_df.head())\n"
   ]
  },
  {
   "cell_type": "code",
   "execution_count": 4,
   "metadata": {},
   "outputs": [
    {
     "name": "stdout",
     "output_type": "stream",
     "text": [
      "Number of duplicates removed: 104\n"
     ]
    }
   ],
   "source": [
    "# Remove duplicate records\n",
    "cleaned_df = combined_df.drop_duplicates()\n",
    "\n",
    "# Check for duplicate rows\n",
    "print(\"Number of duplicates removed:\", len(combined_df) - len(cleaned_df))"
   ]
  },
  {
   "cell_type": "code",
   "execution_count": 6,
   "metadata": {},
   "outputs": [
    {
     "name": "stdout",
     "output_type": "stream",
     "text": [
      "Missing values per column:\n",
      " Channel Title        0\n",
      "Channel Username     0\n",
      "ID                   0\n",
      "Message             71\n",
      "Date                 0\n",
      "Media Path          15\n",
      "dtype: int64\n"
     ]
    },
    {
     "name": "stderr",
     "output_type": "stream",
     "text": [
      "/tmp/ipykernel_41406/2585782958.py:5: FutureWarning: DataFrame.fillna with 'method' is deprecated and will raise in a future version. Use obj.ffill() or obj.bfill() instead.\n",
      "  cleaned_df.fillna(method='ffill', inplace=True)\n",
      "/tmp/ipykernel_41406/2585782958.py:5: SettingWithCopyWarning: \n",
      "A value is trying to be set on a copy of a slice from a DataFrame\n",
      "\n",
      "See the caveats in the documentation: https://pandas.pydata.org/pandas-docs/stable/user_guide/indexing.html#returning-a-view-versus-a-copy\n",
      "  cleaned_df.fillna(method='ffill', inplace=True)\n"
     ]
    }
   ],
   "source": [
    "# Check for missing values\n",
    "print(\"Missing values per column:\\n\", cleaned_df.isnull().sum())\n",
    "\n",
    "# Handle missing values (e.g., forward fill, backward fill, or filling with a default value)\n",
    "cleaned_df.fillna(method='ffill', inplace=True)"
   ]
  },
  {
   "cell_type": "code",
   "execution_count": 7,
   "metadata": {},
   "outputs": [
    {
     "data": {
      "text/plain": [
       "0      ⚠️Notice!\\nDear esteemed customers,\\nDue to fo...\n",
       "1      Mela-One በውስጡ ሆርሞን ያለው ድንገተኛ ወሊድ መቆጣጠርያ ሲሆን ያለ...\n",
       "2      አዚትሮማይሲን በሃኪም መድሃኒት ማዘዣ ከሚታዘዙ አንቲባዮቲኮች አንዱ ሲሆን...\n",
       "3      Che-Med Trivia #3\\n\\nምግብና መጠጦች አንዳንድ መድሃኒቶች በደ...\n",
       "4      Che-Med Trivia #2\\n\\nእንደ Ciprofloxacin, Doxycy...\n",
       "                             ...                        \n",
       "350    በኢትዮጵያ እስካሁን ድረስ በዝንጀሮ ፈንጣጣ (MPox) በሽታ የተያዘ ሰው...\n",
       "351    በኢትዮጵያ እስካሁን ድረስ በዝንጀሮ ፈንጣጣ (MPox) በሽታ የተያዘ ሰው...\n",
       "352    በኢትዮጵያ እስካሁን ድረስ በዝንጀሮ ፈንጣጣ (MPox) በሽታ የተያዘ ሰው...\n",
       "353    በኢትዮጵያ እስካሁን ድረስ በዝንጀሮ ፈንጣጣ (MPox) በሽታ የተያዘ ሰው...\n",
       "354    በኢትዮጵያ እስካሁን ድረስ በዝንጀሮ ፈንጣጣ (MPox) በሽታ የተያዘ ሰው...\n",
       "Name: Message, Length: 251, dtype: object"
      ]
     },
     "execution_count": 7,
     "metadata": {},
     "output_type": "execute_result"
    }
   ],
   "source": [
    "message_df=cleaned_df['Message']\n",
    "message_df"
   ]
  },
  {
   "cell_type": "code",
   "execution_count": 10,
   "metadata": {},
   "outputs": [
    {
     "name": "stdout",
     "output_type": "stream",
     "text": [
      "  Channel Title Channel Username  ID  \\\n",
      "0        CheMed       @CheMed123  97   \n",
      "1        CheMed       @CheMed123  96   \n",
      "2        CheMed       @CheMed123  95   \n",
      "3        CheMed       @CheMed123  94   \n",
      "4        CheMed       @CheMed123  93   \n",
      "\n",
      "                                             Message  \\\n",
      "0  Notice!\\nDear esteemed customers,\\nDue to four...   \n",
      "1  Mela-One በውስጡ ሆርሞን ያለው ድንገተኛ ወሊድ መቆጣጠርያ ሲሆን ያለ...   \n",
      "2  አዚትሮማይሲን በሃኪም መድሃኒት ማዘዣ ከሚታዘዙ አንቲባዮቲኮች አንዱ ሲሆን...   \n",
      "3  Che-Med Trivia #3\\n\\nምግብና መጠጦች አንዳንድ መድሃኒቶች በደ...   \n",
      "4  Che-Med Trivia #2\\n\\nእንደ Ciprofloxacin, Doxycy...   \n",
      "\n",
      "                        Date                Media Path  \n",
      "0  2023-02-10 12:23:06+00:00  photos/@CheMed123_97.jpg  \n",
      "1  2023-02-02 08:58:52+00:00  photos/@CheMed123_96.jpg  \n",
      "2  2023-02-01 08:59:37+00:00  photos/@CheMed123_95.jpg  \n",
      "3  2023-01-31 09:19:53+00:00  photos/@CheMed123_94.jpg  \n",
      "4  2023-01-30 09:45:25+00:00  photos/@CheMed123_93.jpg  \n"
     ]
    }
   ],
   "source": [
    "def remove_emojis(text):\n",
    "    emoji_pattern = re.compile(\n",
    "        \"[\" \n",
    "        \"\\U0001F600-\\U0001F64F\"  # emoticons\n",
    "        \"\\U0001F300-\\U0001F5FF\"  # symbols & pictographs\n",
    "        \"\\U0001F680-\\U0001F6FF\"  # transport & map symbols\n",
    "        \"\\U0001F700-\\U0001F77F\"  # alchemical symbols\n",
    "        \"\\U0001F780-\\U0001F7FF\"  # Geometric Shapes Extended\n",
    "        \"\\U0001F800-\\U0001F8FF\"  # Supplemental Arrows-C\n",
    "        \"\\U0001F900-\\U0001F9FF\"  # Supplemental Symbols and Pictographs\n",
    "        \"\\U0001FA00-\\U0001FA6F\"  # Chess Symbols\n",
    "        \"\\U0001FA70-\\U0001FAFF\"  # Symbols and Pictographs Extended-A\n",
    "        \"\\U00002702-\\U000027B0\"  # Dingbats\n",
    "        \"\\U000024C2-\\U0001F251\" \n",
    "        \"]+\", \n",
    "        flags=re.UNICODE\n",
    "    )\n",
    "    return emoji_pattern.sub(r'', text)\n",
    "\n",
    "# Apply the function to the 'Message' column\n",
    "cleaned_df['Message'] = cleaned_df['Message'].apply(remove_emojis)\n",
    "\n",
    "# Display the updated DataFrame\n",
    "print(cleaned_df.head())"
   ]
  },
  {
   "cell_type": "code",
   "execution_count": 11,
   "metadata": {},
   "outputs": [],
   "source": [
    "# Standardize date format\n",
    "cleaned_df['Date'] = pd.to_datetime(cleaned_df['Date'], errors='coerce')\n",
    "\n",
    "# Convert all messages to lowercase (if needed)\n",
    "cleaned_df['Message'] = cleaned_df['Message'].str.lower()\n",
    "\n",
    "# Validate data (example: ensuring valid date ranges or specific field content)\n",
    "valid_data = cleaned_df[cleaned_df['Date'] >= '2020-01-01']# Save cleaned data to a new CSV file\n",
    "cleaned_df.to_csv('cleaned_tele_data.csv', index=False)"
   ]
  }
 ],
 "metadata": {
  "kernelspec": {
   "display_name": ".venv",
   "language": "python",
   "name": "python3"
  },
  "language_info": {
   "codemirror_mode": {
    "name": "ipython",
    "version": 3
   },
   "file_extension": ".py",
   "mimetype": "text/x-python",
   "name": "python",
   "nbconvert_exporter": "python",
   "pygments_lexer": "ipython3",
   "version": "3.11.9"
  }
 },
 "nbformat": 4,
 "nbformat_minor": 2
}
