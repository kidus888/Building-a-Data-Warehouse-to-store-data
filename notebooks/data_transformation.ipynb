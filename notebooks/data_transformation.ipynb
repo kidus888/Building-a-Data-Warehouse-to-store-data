{
 "cells": [
  {
   "cell_type": "code",
   "execution_count": 2,
   "metadata": {},
   "outputs": [],
   "source": [
    "import pandas as pd\n",
    "import psycopg2\n",
    "from psycopg2 import sql\n",
    "\n",
    "# Read the CSV file\n",
    "data_path = 'cleaned_tele_data.csv'\n",
    "df = pd.read_csv(data_path)"
   ]
  },
  {
   "cell_type": "code",
   "execution_count": 15,
   "metadata": {},
   "outputs": [
    {
     "name": "stderr",
     "output_type": "stream",
     "text": [
      "/tmp/ipykernel_163099/3445115727.py:4: SettingWithCopyWarning: \n",
      "A value is trying to be set on a copy of a slice from a DataFrame.\n",
      "Try using .loc[row_indexer,col_indexer] = value instead\n",
      "\n",
      "See the caveats in the documentation: https://pandas.pydata.org/pandas-docs/stable/user_guide/indexing.html#returning-a-view-versus-a-copy\n",
      "  df['ID'] = df['ID'].astype(int)  # Ensure IDs are integers\n"
     ]
    }
   ],
   "source": [
    "# Ensure the 'ID' column is numeric and drop invalid rows\n",
    "df['ID'] = pd.to_numeric(df['ID'], errors='coerce')  # Convert invalid IDs to NaN\n",
    "df = df.dropna(subset=['ID'])  # Drop rows where 'ID' is NaN\n",
    "df['ID'] = df['ID'].astype(int)  # Ensure IDs are integers"
   ]
  },
  {
   "cell_type": "code",
   "execution_count": 16,
   "metadata": {},
   "outputs": [],
   "source": [
    "# PostgreSQL connection details\n",
    "db_params = {\n",
    "    'dbname': 'tele_data',\n",
    "    'user': 'kidsu',\n",
    "    'password': 'admin@123',\n",
    "    'host': 'localhost',\n",
    "    'port': '5432'\n",
    "}\n",
    "\n",
    "# Establish the connection\n",
    "conn = psycopg2.connect(**db_params)\n",
    "cur = conn.cursor()"
   ]
  },
  {
   "cell_type": "code",
   "execution_count": null,
   "metadata": {},
   "outputs": [],
   "source": [
    "# Create a table for the data \n",
    "create_table_query = '''\n",
    "CREATE TABLE IF NOT EXISTS tele_data (\n",
    "    channel_title TEXT,\n",
    "    channel_username TEXT,\n",
    "    id BIGINT PRIMARY KEY,\n",
    "    message TEXT,\n",
    "    date TIMESTAMP,\n",
    "    media_path TEXT\n",
    ");\n",
    "'''\n",
    "cur.execute(create_table_query)\n",
    "\n",
    "try:\n",
    "    # Insert data into the PostgreSQL table\n",
    "    for index, row in df.iterrows():\n",
    "        try:\n",
    "            insert_query = sql.SQL('''\n",
    "            INSERT INTO tele_data (channel_title, channel_username, id, message, date, media_path)\n",
    "            VALUES (%s, %s, %s, %s, %s, %s)\n",
    "            ON CONFLICT (id) DO NOTHING;\n",
    "            ''')\n",
    "            cur.execute(insert_query, (row['Channel Title'], row['Channel Username'], row['ID'],\n",
    "                                       row['Message'], row['Date'], row['Media Path']))\n",
    "        except Exception as e:\n",
    "            # If an error occurs on an individual insert, log it and continue\n",
    "            print(f\"Error inserting row {index}: {e}\")\n",
    "    \n",
    "    # Commit the transaction after all rows are inserted\n",
    "    conn.commit()\n",
    "\n",
    "except Exception as e:\n",
    "    # If any error occurs, rollback the transaction\n",
    "    print(f\"Transaction failed, rolling back: {e}\")\n",
    "    conn.rollback()\n",
    "\n",
    "finally:\n",
    "    # Close the cursor and connection\n",
    "    cur.close()\n",
    "    conn.close()\n",
    "\n",
    "print(\"Data storage process completed!\")"
   ]
  },
  {
   "cell_type": "code",
   "execution_count": null,
   "metadata": {},
   "outputs": [],
   "source": []
  }
 ],
 "metadata": {
  "kernelspec": {
   "display_name": ".venv",
   "language": "python",
   "name": "python3"
  },
  "language_info": {
   "codemirror_mode": {
    "name": "ipython",
    "version": 3
   },
   "file_extension": ".py",
   "mimetype": "text/x-python",
   "name": "python",
   "nbconvert_exporter": "python",
   "pygments_lexer": "ipython3",
   "version": "3.11.9"
  }
 },
 "nbformat": 4,
 "nbformat_minor": 2
}
